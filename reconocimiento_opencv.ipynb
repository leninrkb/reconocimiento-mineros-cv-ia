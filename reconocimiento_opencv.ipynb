{
 "cells": [
  {
   "cell_type": "code",
   "execution_count": 3,
   "id": "272587a5-2501-4a1c-bfd1-0dc14fa76d4a",
   "metadata": {},
   "outputs": [],
   "source": [
    "import warnings\n",
    "warnings.filterwarnings('ignore')\n",
    "import cv2\n"
   ]
  },
  {
   "attachments": {},
   "cell_type": "markdown",
   "id": "21c5dd9c",
   "metadata": {},
   "source": [
    "### casco"
   ]
  },
  {
   "cell_type": "code",
   "execution_count": 4,
   "id": "93391f35",
   "metadata": {},
   "outputs": [],
   "source": [
    "face_cascade = cv2.CascadeClassifier('modelos_casco/cascade5000datos_15stages.xml')\n",
    "cap = cv2.VideoCapture(0)\n",
    "m=90\n",
    "while (True):\n",
    "    _, img = cap.read()\n",
    "    img = cv2.flip(img, 1)\n",
    "    gray = cv2.cvtColor(img, cv2.COLOR_BGR2GRAY)\n",
    "    # gray = cv2.resize(gray, (300,400), interpolation = cv2.INTER_NEAREST)\n",
    "    faces = face_cascade.detectMultiScale(gray, scaleFactor = 4, minNeighbors = 50, minSize=(m,m))\n",
    "    for (x, y, w, h) in faces:\n",
    "        cv2.rectangle(img, (x,y), (x+w, y+h), (255,0,0), 2)\n",
    "    cv2.imshow('img',img)\n",
    "    k = cv2.waitKey(30)\n",
    "    if k == 27: \n",
    "        break\n",
    "cap.release()\n",
    "cv2.destroyAllWindows()"
   ]
  },
  {
   "attachments": {},
   "cell_type": "markdown",
   "id": "6df2d5ea",
   "metadata": {},
   "source": [
    "### chaleco"
   ]
  },
  {
   "cell_type": "code",
   "execution_count": null,
   "id": "4e632842",
   "metadata": {},
   "outputs": [],
   "source": [
    "chaleco = cv2.CascadeClassifier('modelo_13_chaleco.xml')\n",
    "casco = cv2.CascadeClassifier('cascade_xavier.xml')\n",
    "cap = cv2.VideoCapture(0)\n",
    "\n",
    "while (True):\n",
    "    _, img = cap.read()\n",
    "    gray = cv2.cvtColor(img, cv2.COLOR_BGR2GRAY)\n",
    "    chalecos = chaleco.detectMultiScale(gray, scaleFactor = 5, minNeighbors = 13, minSize=(128,128))\n",
    "    cascos = casco.detectMultiScale(gray, scaleFactor = 5, minNeighbors = 13, minSize=(38,38))\n",
    "    for (x, y, w, h) in chalecos:\n",
    "        cv2.rectangle(img, (x,y), (x+w, y+h), (255,0,0), 2)\n",
    "        cv2.putText(img,'chaleco',(x,y),2,0.7,(255,0,0),2,cv2.LINE_AA)\n",
    "    for (x2, y2, w2, h2) in cascos:\n",
    "        cv2.rectangle(img, (x2,y2), (x2+w2, y2+h2), (0,255,0), 2)\n",
    "        cv2.putText(img,'casco',(x2,y2),2,0.7,(0,255,0),2,cv2.LINE_AA) \n",
    "    cv2.imshow('img',img)\n",
    "    k = cv2.waitKey(30)\n",
    "    if k == 27: \n",
    "        break\n",
    "cap.release()\n",
    "cv2.destroyAllWindows()"
   ]
  }
 ],
 "metadata": {
  "kernelspec": {
   "display_name": "Python 3",
   "language": "python",
   "name": "python3"
  },
  "language_info": {
   "codemirror_mode": {
    "name": "ipython",
    "version": 3
   },
   "file_extension": ".py",
   "mimetype": "text/x-python",
   "name": "python",
   "nbconvert_exporter": "python",
   "pygments_lexer": "ipython3",
   "version": "3.10.6 (main, Nov 14 2022, 16:10:14) [GCC 11.3.0]"
  },
  "vscode": {
   "interpreter": {
    "hash": "916dbcbb3f70747c44a77c7bcd40155683ae19c65e1c03b4aa3499c5328201f1"
   }
  }
 },
 "nbformat": 4,
 "nbformat_minor": 5
}
