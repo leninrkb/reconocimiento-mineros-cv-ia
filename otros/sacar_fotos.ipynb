{
 "cells": [
  {
   "cell_type": "code",
   "execution_count": 2,
   "id": "272587a5-2501-4a1c-bfd1-0dc14fa76d4a",
   "metadata": {},
   "outputs": [],
   "source": [
    "import warnings\n",
    "warnings.filterwarnings('ignore')\n",
    "import cv2\n",
    "import numpy as np \n",
    "import imutils \n",
    "import os \n"
   ]
  },
  {
   "attachments": {},
   "cell_type": "markdown",
   "id": "6df2d5ea",
   "metadata": {},
   "source": [
    "### sacar fotos"
   ]
  },
  {
   "cell_type": "code",
   "execution_count": 13,
   "id": "704f6df5-d7aa-450d-a8bc-1d47c895f795",
   "metadata": {},
   "outputs": [],
   "source": [
    "\n",
    "Datos = 'n'\n",
    "if not os.path.exists(Datos):\n",
    "    print('carpeta creada: ',Datos)\n",
    "    os.makedirs(Datos) \n",
    "cap = cv2.VideoCapture(0)\n",
    "x1, y1 = 200, 80\n",
    "x2, y2 = x1+300, y1+300\n",
    "count=0\n",
    "while (True):\n",
    "    ret, frame = cap.read()\n",
    "    if ret == False: break \n",
    "    aux = frame.copy()\n",
    "    cv2.rectangle(frame, (x1,y1), (x2, y2), (255,0,0), 2)\n",
    "    objeto = aux[y1:y2,x1:x2]\n",
    "    objeto = imutils.resize(objeto, width=128)\n",
    "    cv2.imshow('frame',frame)\n",
    "    cv2.imshow('objeto',objeto)\n",
    "    k=cv2.waitKey(1)\n",
    "    if k == 27: break \n",
    "    if k == ord('s'): \n",
    "        Datos='/home/lenin/Documents/GitHub/CursoPython/Cuadernos de Trabajo/Cuadernos de Trabajo/n/imgp_{}.jpg'.format(count)\n",
    "        cv2.imwrite(Datos, objeto)\n",
    "        print('img saved: ',Datos)\n",
    "        count+=1\n",
    "cap.release()\n",
    "cv2.destroyAllWindows()"
   ]
  }
 ],
 "metadata": {
  "kernelspec": {
   "display_name": "Python 3",
   "language": "python",
   "name": "python3"
  },
  "language_info": {
   "codemirror_mode": {
    "name": "ipython",
    "version": 3
   },
   "file_extension": ".py",
   "mimetype": "text/x-python",
   "name": "python",
   "nbconvert_exporter": "python",
   "pygments_lexer": "ipython3",
   "version": "3.10.6 (main, Nov 14 2022, 16:10:14) [GCC 11.3.0]"
  },
  "vscode": {
   "interpreter": {
    "hash": "916dbcbb3f70747c44a77c7bcd40155683ae19c65e1c03b4aa3499c5328201f1"
   }
  }
 },
 "nbformat": 4,
 "nbformat_minor": 5
}
