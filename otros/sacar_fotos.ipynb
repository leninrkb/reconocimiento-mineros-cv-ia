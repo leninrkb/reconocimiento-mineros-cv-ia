{
 "cells": [
  {
   "cell_type": "code",
   "execution_count": 2,
   "id": "272587a5-2501-4a1c-bfd1-0dc14fa76d4a",
   "metadata": {},
   "outputs": [],
   "source": [
    "import warnings\n",
    "warnings.filterwarnings('ignore')\n",
    "import cv2\n",
    "import numpy as np \n",
    "import imutils \n",
    "import os \n"
   ]
  },
  {
   "attachments": {},
   "cell_type": "markdown",
   "id": "6df2d5ea",
   "metadata": {},
   "source": [
    "### sacar fotos"
   ]
  },
  {
   "cell_type": "code",
   "execution_count": 13,
   "id": "704f6df5-d7aa-450d-a8bc-1d47c895f795",
   "metadata": {},
   "outputs": [],
   "source": [
    "\n",
    "Datos = 'n'\n",
    "if not os.path.exists(Datos):\n",
    "    print('carpeta creada: ',Datos)\n",
    "    os.makedirs(Datos) \n",
    "cap = cv2.VideoCapture(0)\n",
    "x1, y1 = 200, 80\n",
    "x2, y2 = x1+300, y1+300\n",
    "count=0\n",
    "while (True):\n",
    "    ret, frame = cap.read()\n",
    "    if ret == False: break \n",
    "    aux = frame.copy()\n",
    "    cv2.rectangle(frame, (x1,y1), (x2, y2), (255,0,0), 2)\n",
    "    objeto = aux[y1:y2,x1:x2]\n",
    "    objeto = imutils.resize(objeto, width=128)\n",
    "    cv2.imshow('frame',frame)\n",
    "    cv2.imshow('objeto',objeto)\n",
    "    k=cv2.waitKey(1)\n",
    "    if k == 27: break \n",
    "    if k == ord('s'): \n",
    "        Datos='/home/lenin/Documents/GitHub/CursoPython/Cuadernos de Trabajo/Cuadernos de Trabajo/n/imgp_{}.jpg'.format(count)\n",
    "        cv2.imwrite(Datos, objeto)\n",
    "        print('img saved: ',Datos)\n",
    "        count+=1\n",
    "cap.release()\n",
    "cv2.destroyAllWindows()"
   ]
  }
 ],
 "metadata": {
  "kernelspec": {
   "display_name": "Python 3",
   "language": "python",
   "name": "python3"
  },
  "language_info": {
   "codemirror_mode": {
    "name": "ipython",
    "version": 3
   },
   "file_extension": ".py",
   "mimetype": "text/x-python",
   "name": "python",
   "nbconvert_exporter": "python",
   "pygments_lexer": "ipython3",
   "version": "3.9.6"
  },
  "vscode": {
   "interpreter": {
    "hash": "cf92aa13fedf815d5c8dd192b8d835913fde3e8bc926b2a0ad6cc74ef2ba3ca2"
   }
  }
 },
 "nbformat": 4,
 "nbformat_minor": 5
}
